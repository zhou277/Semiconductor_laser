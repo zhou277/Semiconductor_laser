{
 "cells": [
  {
   "cell_type": "code",
   "execution_count": 1,
   "id": "508fe6ca",
   "metadata": {},
   "outputs": [],
   "source": [
    "import meep as mp\n",
    "import numpy as np\n",
    "import matplotlib.pyplot as plt"
   ]
  },
  {
   "cell_type": "markdown",
   "id": "8a07bb3d",
   "metadata": {},
   "source": [
    "# 1. Generate a Fibonacci grating structure using meep\n"
   ]
  },
  {
   "cell_type": "code",
   "execution_count": 3,
   "id": "969f3279",
   "metadata": {},
   "outputs": [],
   "source": [
    "# define material\n",
    "mat_A = mp.Medium(epsilon=12)  # 高折射率\n",
    "mat_B = mp.Medium(epsilon=1)   # air epsilon\n",
    "\n",
    "# construct Fibonacci sequence\n",
    "def fibonacci_sequence(n):\n",
    "    if n == 1:\n",
    "        return \"A\"\n",
    "    elif n == 2:\n",
    "        return \"AB\"\n",
    "    else:\n",
    "        return fibonacci_sequence(n - 1) + fibonacci_sequence(n - 2)\n",
    "\n",
    "sequence = fibonacci_sequence(5)  #  F(5) = ABAABABA\n",
    "\n",
    "block_width = 1.0\n",
    "geometry = []\n",
    "\n",
    "for i, s in enumerate(sequence):\n",
    "    x_pos = (-len(sequence)/2 + i + 0.5) * block_width\n",
    "    if s == \"A\" :\n",
    "        mat = mp.Medium(index=3.4) \n",
    "    else:\n",
    "        mat = mp.Medium(index=1.0)\n",
    "    geometry.append(mp.Block(material=mat,\n",
    "                             size = mp.Vector3(block_width, mp.inf, mp.inf),\n",
    "                             center = mp.Vector3(x_pos)\n",
    "                             ))"
   ]
  },
  {
   "cell_type": "code",
   "execution_count": 4,
   "id": "a0b30c03",
   "metadata": {},
   "outputs": [
    {
     "data": {
      "image/png": "[encoded data removed]",
      "text/plain": [
       "<Figure size 1000x200 with 1 Axes>"
      ]
     },
     "metadata": {},
     "output_type": "display_data"
    }
   ],
   "source": [
    "## plot the material\n",
    "\n",
    "# 对应材料色块设置\n",
    "colors = {'A': 'orange', 'B': 'lightblue'}\n",
    "\n",
    "# 初始化图形\n",
    "fig, ax = plt.subplots(figsize=(10, 2))\n",
    "\n",
    "for i, symbol in enumerate(sequence):\n",
    "    x_start = i * block_width\n",
    "    ax.add_patch(plt.Rectangle((x_start, 0), block_width, 1,\n",
    "                               facecolor=colors[symbol],\n",
    "                               edgecolor='black'))\n",
    "    ax.text(x_start + block_width/2, 0.5, symbol, ha='center', va='center')\n",
    "\n",
    "# 设置坐标轴\n",
    "ax.set_xlim(0, len(sequence) * block_width)\n",
    "ax.set_ylim(0, 1)\n",
    "ax.set_yticks([])\n",
    "ax.set_xlabel(\"Position (x)\")\n",
    "ax.set_title(\"Fibonacci Aperiodic Lattice Structure\")\n",
    "plt.tight_layout()\n",
    "plt.show()"
   ]
  },
  {
   "cell_type": "markdown",
   "id": "5cd6208c",
   "metadata": {},
   "source": [
    "# 2. Generate the source\n"
   ]
  },
  {
   "cell_type": "code",
   "execution_count": null,
   "id": "4810c454",
   "metadata": {},
   "outputs": [],
   "source": [
    "cell = mp.Vector3(len(sequence) * block_width / 2)\n",
    "sources = [mp.Source(mp.ContinuousSource(frequency=0.15),\n",
    "                     component=mp.Ez,\n",
    "                     center=mp.Vector3(-cell.x/2 + 1))]"
   ]
  },
  {
   "cell_type": "markdown",
   "id": "686bb42b",
   "metadata": {},
   "source": [
    "# 3.simulation"
   ]
  },
  {
   "cell_type": "code",
   "execution_count": null,
   "id": "f2f14a93",
   "metadata": {},
   "outputs": [],
   "source": [
    "sim = mp.Simulation(cell_size=cell,\n",
    "                    geometry=geometry,\n",
    "                    sources=sources,\n",
    "                    boundary_layers=[mp.PML(1.0)],\n",
    "                    resolution=20)\n",
    "sim.run(until=200)"
   ]
  },
  {
   "cell_type": "markdown",
   "id": "74153a18",
   "metadata": {},
   "source": [
    "# 4. Plot the data\n"
   ]
  },
  {
   "cell_type": "code",
   "execution_count": null,
   "id": "95c4bb3c",
   "metadata": {},
   "outputs": [],
   "source": [
    "# 采样透射数据\n",
    "flux_region = mp.FluxRegion(center=mp.Vector3(6)) \n",
    "flux = sim.add_flux(0.15, 0.1, 100, flux_region)  # frequency range: 0.15 ± 0.05\n",
    "\n",
    "# 输出透射谱\n",
    "flux_freqs = mp.get_flux_freqs(flux)\n",
    "flux_data = mp.get_fluxes(flux)\n",
    "\n",
    "plt.plot(flux_freqs, flux_data)\n",
    "plt.xlabel(\"Frequency\")\n",
    "plt.ylabel(\"Transmitted flux\")\n",
    "plt.title(\"Transmission Spectrum of Fibonacci Grating (F5)\")\n",
    "plt.grid(True)\n",
    "plt.show()\n"
   ]
  }
 ],
 "metadata": {
  "kernelspec": {
   "display_name": "mp",
   "language": "python",
   "name": "python3"
  },
  "language_info": {
   "codemirror_mode": {
    "name": "ipython",
    "version": 3
   },
   "file_extension": ".py",
   "mimetype": "text/x-python",
   "name": "python",
   "nbconvert_exporter": "python",
   "pygments_lexer": "ipython3",
   "version": "3.11.13"
  }
 },
 "nbformat": 4,
 "nbformat_minor": 5
}

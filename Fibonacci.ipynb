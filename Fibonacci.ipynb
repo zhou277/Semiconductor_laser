{
 "cells": [
  {
   "cell_type": "code",
   "execution_count": 1,
   "id": "508fe6ca",
   "metadata": {},
   "outputs": [],
   "source": [
    "import meep as mp\n",
    "import numpy as np\n",
    "import matplotlib.pyplot as plt"
   ]
  },
  {
   "cell_type": "markdown",
   "id": "8a07bb3d",
   "metadata": {},
   "source": [
    "## 1. Generate a Fibonacci lattice structure using meep\n"
   ]
  },
  {
   "cell_type": "code",
   "execution_count": null,
   "id": "969f3279",
   "metadata": {},
   "outputs": [],
   "source": [
    "# define material\n",
    "mat_A = mp.Medium(epsilon=12)  # semiconductor epsilon\n",
    "mat_B = mp.Medium(epsilon=1)   # air epsilon\n",
    "\n",
    "# construct Fibonacci sequence\n",
    "def fibonacci_sequence(n):\n",
    "    if n == 1:\n",
    "        return \"A\"\n",
    "    elif n == 2:\n",
    "        return \"AB\"\n",
    "    else:\n",
    "        return fibonacci_sequence(n - 1) + fibonacci_sequence(n - 2)\n",
    "\n",
    "sequence = fibonacci_sequence(10)  #  F(5) = ABAABABA\n",
    "\n",
    "block_width = 1.0\n",
    "geometry = []\n",
    "\n",
    "for i, s in enumerate(sequence):\n",
    "    x_pos = (-len(sequence)/2 + i + 0.5) * block_width\n",
    "    if s == \"A\" :\n",
    "        mat = mp.Medium(index=3.4) \n",
    "    else:\n",
    "        mat = mp.Medium(index=1.0)\n",
    "    geometry.append(mp.Block(material=mat,\n",
    "                             size = mp.Vector3(block_width, mp.inf, mp.inf),\n",
    "                             center = mp.Vector3(x_pos)\n",
    "                             ))"
   ]
  },
  {
   "cell_type": "code",
   "execution_count": null,
   "id": "a0b30c03",
   "metadata": {},
   "outputs": [],
   "source": [
    "## plot the material\n",
    "\n",
    "# 对应材料色块设置\n",
    "colors = {'A': 'orange', 'B': 'lightblue'}\n",
    "\n",
    "# 初始化图形\n",
    "fig, ax = plt.subplots(figsize=(10, 2))\n",
    "\n",
    "for i, symbol in enumerate(sequence):\n",
    "    x_start = i * block_width\n",
    "    ax.add_patch(plt.Rectangle((x_start, 0), block_width, 1,\n",
    "                               facecolor=colors[symbol],\n",
    "                               edgecolor='black'))\n",
    "    ax.text(x_start + block_width/2, 0.5, symbol, ha='center', va='center')\n",
    "\n",
    "# 设置坐标轴\n",
    "ax.set_xlim(0, len(sequence) * block_width)\n",
    "ax.set_ylim(0, 1)\n",
    "ax.set_yticks([])\n",
    "ax.set_xlabel(\"Position (x)\")\n",
    "ax.set_title(\"Fibonacci Aperiodic Lattice Structure\")\n",
    "plt.tight_layout()\n",
    "plt.show()"
   ]
  },
  {
   "cell_type": "markdown",
   "id": "5cd6208c",
   "metadata": {},
   "source": [
    "## 2. Generate the source\n"
   ]
  },
  {
   "cell_type": "code",
   "execution_count": null,
   "id": "4810c454",
   "metadata": {},
   "outputs": [],
   "source": [
    "cell = mp.Vector3(len(sequence) * block_width / 2)\n",
    "sources = [mp.Source(mp.ContinuousSource(frequency=0.15),\n",
    "                     component=mp.Ez,\n",
    "                     center=mp.Vector3(-cell.x/2 + 1))]"
   ]
  },
  {
   "cell_type": "markdown",
   "id": "686bb42b",
   "metadata": {},
   "source": [
    "## 3.simulation"
   ]
  },
  {
   "cell_type": "code",
   "execution_count": null,
   "id": "f2f14a93",
   "metadata": {},
   "outputs": [],
   "source": [
    "sim = mp.Simulation(cell_size=cell,\n",
    "                    geometry=geometry,\n",
    "                    sources=sources,\n",
    "                    boundary_layers=[mp.PML(1.0)],\n",
    "                    resolution=20)\n",
    "sim.run(until=200)"
   ]
  },
  {
   "cell_type": "markdown",
   "id": "74153a18",
   "metadata": {},
   "source": [
    "## 4. Plot the data\n"
   ]
  },
  {
   "cell_type": "code",
   "execution_count": null,
   "id": "95c4bb3c",
   "metadata": {},
   "outputs": [],
   "source": [
    "# 采样透射数据\n",
    "flux_region = mp.FluxRegion(center=mp.Vector3(0)) \n",
    "flux = sim.add_flux(0.15, 0.1, 100, flux_region)  # frequency range: 0.15 ± 0.05\n",
    "\n",
    "# 输出透射谱\n",
    "flux_freqs = mp.get_flux_freqs(flux)\n",
    "flux_data = mp.get_fluxes(flux)\n",
    "\n",
    "plt.plot(flux_freqs, flux_data)\n",
    "plt.xlabel(\"Frequency\")\n",
    "plt.ylabel(\"Transmitted flux\")\n",
    "plt.title(\"Transmission Spectrum of Fibonacci Grating (F5)\")\n",
    "plt.grid(True)\n",
    "plt.show()\n"
   ]
  },
  {
   "cell_type": "markdown",
   "id": "e8547ab9",
   "metadata": {},
   "source": [
    "## another version\n"
   ]
  },
  {
   "cell_type": "code",
   "execution_count": 4,
   "id": "457256ea",
   "metadata": {},
   "outputs": [
    {
     "name": "stdout",
     "output_type": "stream",
     "text": [
      "-----------\n",
      "Initializing structure...\n",
      "time for choose_chunkdivision = 0.000232935 s\n",
      "Working in 2D dimensions.\n",
      "Computational cell is 16 x 0.02 x 0 with resolution 50\n",
      "     block, center = (0,0,0)\n",
      "          size (6,1e+20,0)\n",
      "          axes (1,0,0), (0,1,0), (0,0,1)\n",
      "          dielectric constant epsilon diagonal = (12.25,12.25,12.25)\n",
      "     block, center = (0,0,0)\n",
      "          size (0.5,1e+20,0)\n",
      "          axes (1,0,0), (0,1,0), (0,0,1)\n",
      "          dielectric constant epsilon diagonal = (10.24,10.24,10.24)\n",
      "     block, center = (0.5,0,0)\n",
      "          size (0.5,1e+20,0)\n",
      "          axes (1,0,0), (0,1,0), (0,0,1)\n",
      "          dielectric constant epsilon diagonal = (10.24,10.24,10.24)\n",
      "     block, center = (1,0,0)\n",
      "          size (0.5,1e+20,0)\n",
      "          axes (1,0,0), (0,1,0), (0,0,1)\n",
      "          dielectric constant epsilon diagonal = (10.24,10.24,10.24)\n",
      "     block, center = (1.5,0,0)\n",
      "          size (0.5,1e+20,0)\n",
      "          axes (1,0,0), (0,1,0), (0,0,1)\n",
      "          dielectric constant epsilon diagonal = (10.24,10.24,10.24)\n",
      "     block, center = (2,0,0)\n",
      "          size (0.5,1e+20,0)\n",
      "          axes (1,0,0), (0,1,0), (0,0,1)\n",
      "          dielectric constant epsilon diagonal = (10.24,10.24,10.24)\n",
      "     block, center = (2.5,0,0)\n",
      "          size (0.5,1e+20,0)\n",
      "          axes (1,0,0), (0,1,0), (0,0,1)\n",
      "          dielectric constant epsilon diagonal = (10.24,10.24,10.24)\n",
      "     block, center = (3,0,0)\n",
      "          size (0.5,1e+20,0)\n",
      "          axes (1,0,0), (0,1,0), (0,0,1)\n",
      "          dielectric constant epsilon diagonal = (10.24,10.24,10.24)\n",
      "     block, center = (3.5,0,0)\n",
      "          size (0.5,1e+20,0)\n",
      "          axes (1,0,0), (0,1,0), (0,0,1)\n",
      "          dielectric constant epsilon diagonal = (10.24,10.24,10.24)\n",
      "time for set_epsilon = 0.00263119 s\n",
      "-----------\n",
      "on time step 1797 (time=17.97), 0.00222673 s/step\n",
      "on time step 3610 (time=36.1), 0.00220757 s/step\n",
      "field decay(t = 50.01): 4.3837899201747595e-05 / 4.3837899201747595e-05 = 1.0\n",
      "on time step 5419 (time=54.19), 0.0022123 s/step\n",
      "on time step 7235 (time=72.35), 0.00220315 s/step\n",
      "on time step 9044 (time=90.44), 0.00221165 s/step\n",
      "field decay(t = 100.01): 0.12525612438623532 / 0.12525612438623532 = 1.0\n",
      "on time step 10860 (time=108.6), 0.00220317 s/step\n",
      "on time step 12679 (time=126.79), 0.00219974 s/step\n",
      "on time step 14489 (time=144.89), 0.00221107 s/step\n",
      "field decay(t = 150.02): 0.010570369224821954 / 0.12525612438623532 = 0.08439003902298255\n",
      "on time step 16288 (time=162.88), 0.00222372 s/step\n",
      "on time step 18117 (time=181.17), 0.00218714 s/step\n",
      "on time step 19938 (time=199.38), 0.00219665 s/step\n",
      "field decay(t = 200.03): 0.0008904125756945436 / 0.12525612438623532 = 0.00710873484276824\n",
      "on time step 21737 (time=217.37), 0.00222353 s/step\n",
      "on time step 23550 (time=235.5), 0.00220739 s/step\n",
      "field decay(t = 250.04): 7.482901082329854e-05 / 0.12525612438623532 = 0.0005974080005266526\n",
      "on time step 25361 (time=253.61), 0.00220945 s/step\n",
      "on time step 27192 (time=271.92), 0.00218571 s/step\n",
      "on time step 29017 (time=290.17), 0.00219279 s/step\n",
      "field decay(t = 300.04): 6.273951541178683e-06 / 0.12525612438623532 = 5.008898025483009e-05\n",
      "on time step 30825 (time=308.25), 0.00221316 s/step\n",
      "on time step 32628 (time=326.28), 0.00221898 s/step\n",
      "on time step 34435 (time=344.35), 0.00221454 s/step\n",
      "field decay(t = 350.05): 5.248497166530023e-07 / 0.12525612438623532 = 4.190212009391209e-06\n",
      "run 0 finished at t = 350.05 (35005 timesteps)\n"
     ]
    },
    {
     "data": {
      "image/png": "[encoded data removed]",
      "text/plain": [
       "<Figure size 640x480 with 1 Axes>"
      ]
     },
     "metadata": {},
     "output_type": "display_data"
    }
   ],
   "source": [
    "# --- define parameters ---\n",
    "cell_x = 16\n",
    "cell = mp.Vector3(cell_x, 0, 0)\n",
    "\n",
    "resolution = 50\n",
    "n_gain = 3.5\n",
    "n_grating = 3.2\n",
    "n_bg = 1.0\n",
    "\n",
    "grating_period = 0.5\n",
    "bar_width = 0.5\n",
    "num_grating = 8\n",
    "\n",
    "# --- define geometry structure ---\n",
    "geometry = []\n",
    "\n",
    "# the gain region\n",
    "geometry.append(mp.Block(center=mp.Vector3(),\n",
    "                         size=mp.Vector3(6, mp.inf),\n",
    "                         material=mp.Medium(index=n_gain)))\n",
    "\n",
    "# --- periodic grating structure ---\n",
    "for i in range(num_grating):\n",
    "    x_pos = i * grating_period\n",
    "    geometry.append(mp.Block(center=mp.Vector3(x_pos, 0),\n",
    "                             size=mp.Vector3(bar_width, mp.inf),\n",
    "                             material=mp.Medium(index=n_grating)))\n",
    "\n",
    "# --- define a broadband gaussian source ---\n",
    "sources = [mp.Source(mp.GaussianSource(frequency=0.3, fwidth=0.1),\n",
    "                     component=mp.Ez,\n",
    "                     center=mp.Vector3(-6))]\n",
    "\n",
    "# --- Add a flux monitor to record transmission spectrum ---\n",
    "tran_fr = mp.FluxRegion(center=mp.Vector3(6))\n",
    "frequencies = np.linspace(0.2, 0.4, 100)\n",
    "\n",
    "# --- Set up simulation ---\n",
    "sim = mp.Simulation(\n",
    "    cell_size=cell,\n",
    "    boundary_layers=[mp.PML(1.0)],\n",
    "    geometry=geometry,\n",
    "    sources=sources,\n",
    "    resolution=resolution,\n",
    ")\n",
    "\n",
    "tran = sim.add_flux(0.3,0.1,100, tran_fr)\n",
    "sim.run(until_after_sources=mp.stop_when_fields_decayed(50, mp.Ez, mp.Vector3(6), 1e-5))\n",
    "\n",
    "# --- Extract and plot transmission spectrum ---\n",
    "flux_vals = mp.get_fluxes(tran)\n",
    "freqs = mp.get_flux_freqs(tran)\n",
    "\n",
    "plt.plot(freqs, flux_vals)\n",
    "plt.xlabel(\"Frequency (a.u.)\")\n",
    "plt.ylabel(\"Transmitted Flux\")\n",
    "plt.title(\"Frequency Response of Grating + Gain Structure\")\n",
    "plt.grid(True)\n",
    "plt.show()\n"
   ]
  }
 ],
 "metadata": {
  "kernelspec": {
   "display_name": "mp",
   "language": "python",
   "name": "python3"
  },
  "language_info": {
   "codemirror_mode": {
    "name": "ipython",
    "version": 3
   },
   "file_extension": ".py",
   "mimetype": "text/x-python",
   "name": "python",
   "nbconvert_exporter": "python",
   "pygments_lexer": "ipython3",
   "version": "3.11.13"
  }
 },
 "nbformat": 4,
 "nbformat_minor": 5
}

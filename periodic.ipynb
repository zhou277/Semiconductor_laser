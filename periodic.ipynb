{
 "cells": [
  {
   "cell_type": "markdown",
   "id": "a9bfc862",
   "metadata": {},
   "source": [
    "### Periodic grating\n"
   ]
  },
  {
   "cell_type": "code",
   "execution_count": 1,
   "id": "d0a6e380",
   "metadata": {},
   "outputs": [],
   "source": [
    "import meep as mp\n",
    "import numpy as np\n",
    "import matplotlib.pyplot as plt"
   ]
  },
  {
   "cell_type": "code",
   "execution_count": null,
   "id": "905568ae",
   "metadata": {},
   "outputs": [],
   "source": [
    "# --- define parameters ---\n",
    "cell_x = 16\n",
    "cell = mp.Vector3(cell_x, 0, 0)\n",
    "\n",
    "resolution = 50\n",
    "n_gain = 3.5\n",
    "n_grating = 3.2\n",
    "n_bg = 1.0\n",
    "\n",
    "grating_period = 0.5\n",
    "bar_width = 0.5\n",
    "num_grating = 8\n",
    "\n",
    "# --- define geometry structure ---\n",
    "geometry = []\n",
    "\n",
    "# the gain region\n",
    "geometry.append(mp.Block(center=mp.Vector3(),\n",
    "                         size=mp.Vector3(6, mp.inf),\n",
    "                         material=mp.Medium(index=n_gain)))\n",
    "\n",
    "# --- periodic grating structure ---\n",
    "for i in range(num_grating):\n",
    "    x_pos = i * grating_period\n",
    "    geometry.append(mp.Block(center=mp.Vector3(x_pos, 0),\n",
    "                             size=mp.Vector3(bar_width, mp.inf),\n",
    "                             material=mp.Medium(index=n_grating)))\n",
    "\n",
    "# --- define a broadband gaussian source ---\n",
    "sources = [mp.Source(mp.GaussianSource(frequency=0.3, fwidth=0.1),\n",
    "                     component=mp.Ez,\n",
    "                     center=mp.Vector3(-6))]\n",
    "\n",
    "# --- Add a flux monitor to record transmission spectrum ---\n",
    "tran_fr = mp.FluxRegion(center=mp.Vector3(6))\n",
    "frequencies = np.linspace(0.2, 0.4, 100)\n",
    "\n",
    "# --- Set up simulation ---\n",
    "sim = mp.Simulation(\n",
    "    cell_size=cell,\n",
    "    boundary_layers=[mp.PML(1.0)],\n",
    "    geometry=geometry,\n",
    "    sources=sources,\n",
    "    resolution=resolution,\n",
    ")\n",
    "\n",
    "tran = sim.add_flux(0.3,0.1,100, tran_fr)\n",
    "sim.run(until_after_sources=mp.stop_when_fields_decayed(50, mp.Ez, mp.Vector3(6), 1e-5))\n",
    "\n",
    "# --- Extract and plot transmission spectrum ---\n",
    "flux_vals = mp.get_fluxes(tran)\n",
    "freqs = mp.get_flux_freqs(tran)\n",
    "\n",
    "plt.plot(freqs, flux_vals)\n",
    "plt.xlabel(\"Frequency (a.u.)\")\n",
    "plt.ylabel(\"Transmitted Flux\")\n",
    "plt.title(\"Frequency Response of Grating + Gain Structure\")\n",
    "plt.grid(True)\n",
    "plt.show()\n"
   ]
  }
 ],
 "metadata": {
  "kernelspec": {
   "display_name": "mp",
   "language": "python",
   "name": "python3"
  },
  "language_info": {
   "codemirror_mode": {
    "name": "ipython",
    "version": 3
   },
   "file_extension": ".py",
   "mimetype": "text/x-python",
   "name": "python",
   "nbconvert_exporter": "python",
   "pygments_lexer": "ipython3",
   "version": "3.11.13"
  }
 },
 "nbformat": 4,
 "nbformat_minor": 5
}

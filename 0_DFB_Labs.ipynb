{
 "cells": [
  {
   "cell_type": "markdown",
   "id": "dd33c31a",
   "metadata": {},
   "source": [
    "# Research on DFB lasers  \n",
    "---\n",
    "目标 : 用Meep仿真出DFB的结构和给与源之后的结果\n",
    "- 仿真Bragg Reflection\n",
    "- 仿真QCL的材料layer结构\n",
    "- 仿真光栅结构\n",
    "- 组合查看仿真结果\n",
    "- extra：mode intensity\n"
   ]
  },
  {
   "cell_type": "markdown",
   "id": "615d0ca1",
   "metadata": {},
   "source": [
    "## 基本概念介绍以及目的需求分析\n",
    "---"
   ]
  },
  {
   "cell_type": "markdown",
   "id": "5c155ed9",
   "metadata": {},
   "source": [
    "### What is DFB?\n",
    "- DFB 是 Distributed Feedback Laser（分布式反馈激光器）的缩写，是一种非常重要的单频激光器结构，广泛应用于光通信、光谱分析、传感和激光雷达等领域。\n",
    "- DFB 激光器是一种在整个增益介质中内置周期性光栅，实现光反馈的激光器结构。\n",
    "- 关键机制： Bragg Reflection 满足布拉格条件时，特定波长的光会被光栅强烈反射，并在有源区形成共振腔体，形成激光发射。\n",
    "- 关于Bragg Reflection的相关机制探索，放在了另外一个notebook中。\n",
    "> https://www.bilibili.com/video/BV1LR4y1G7aW/?spm_id_from=333.337.search-card.all.click&vd_source=94a597b5fbd359a011fb548c5a51fb78"
   ]
  },
  {
   "cell_type": "markdown",
   "id": "0dc136ac",
   "metadata": {},
   "source": [
    "### Why can use meep?\n",
    "- Meep（MIT Electromagnetic Package）是一个开源的时域电磁波仿真软件，基于 FDTD 方法（Finite-Difference Time-Domain） 实现。\n",
    "- 由于光具有波动性和粒子性，所以光可以看作是一种电磁波，满足麦克斯韦方程。\n",
    "- 光的传播、干涉、反射、折射等都是波动现象。\n",
    "- FDTD 将时间和空间离散，把麦克斯韦方程变成差分方程，在每一个时间步上逐步演化电场E和磁场H，得到时域中完整的光传播动画。"
   ]
  },
  {
   "cell_type": "markdown",
   "id": "dfc63ba8",
   "metadata": {},
   "source": [
    "### What parameters of the material and grating structure should I use in meep and why?\n",
    "| 参数                          | 必要性 | 含义                | Meep 中的字段                                          |\n",
    "| --------------------------- | --- | ----------------- | -------------------------------------------------- |\n",
    "| ✅ 折射率 `n` 或介电常数 `ε`         | 必须  | 光速变化与波传播方向的关键参数   | `index=` 或 `epsilon=`                              |\n",
    "| ⚠️ 导电率 `σ`                  | 可选  | 模拟吸收材料的能量损耗       | `D_conductivity=`                                  |\n",
    "| ⚠️ 色散参数（Drude / Lorentz 模型） | 可选  | 模拟频率相关的 ε（真实材料色散） | `LorentzianSusceptibility` / `DrudeSusceptibility` |\n",
    "| ⚠️ 磁导率 `μ`（一般 = 1）          | 可选  | 对磁性材料建模           | `mu=`                                              |\n",
    "| ⚠️ χ(2), χ(3) 非线性项          | 可选  | 非线性响应，如倍频、自聚焦     | 手动实现 via polarization updates                      |\n",
    "| ⚠️ 坐标相关的 ε（各向异性）            | 可选  | 双折射或光子晶体中常见       | 用 `epsilon_diag` 或张量指定                             |\n"
   ]
  },
  {
   "cell_type": "markdown",
   "id": "a1f3f76a",
   "metadata": {},
   "source": [
    "## 具体实现以及实验\n",
    "---"
   ]
  },
  {
   "cell_type": "markdown",
   "id": "22c4b923",
   "metadata": {},
   "source": [
    "### 材料定义方式以及堆叠方式"
   ]
  },
  {
   "cell_type": "code",
   "execution_count": null,
   "id": "e8352607",
   "metadata": {},
   "outputs": [],
   "source": [
    "import meep as mp\n",
    "import numpy as np\n",
    "from matplotlib import pyplot as plt\n",
    "import matplotlib.patches as patches\n",
    "from meep.materials import GaAs\n",
    "from QCL_materials import Au_fun,QCL_neff_c,GaAs_5e18_fun\n"
   ]
  },
  {
   "cell_type": "markdown",
   "id": "c8a5485f",
   "metadata": {},
   "source": [
    "#### QCL layers stack\n"
   ]
  },
  {
   "cell_type": "code",
   "execution_count": 25,
   "id": "d1cc8220",
   "metadata": {},
   "outputs": [],
   "source": [
    "###----------------------------------basic config----------------------------------###\n",
    "dpml = 1  # PML thickness\n",
    "resolution = 50\n",
    "# thickness of different layers（1 μm）\n",
    "Au_thickness = 0.2\n",
    "nGaAs_thickness_1 = 0.08\n",
    "Active_region_thickness = 11.3\n",
    "nGaAs_thickness_2 = 0.7\n",
    "substrate_GaAs_thickness = 30\n",
    "# w = au_thickness + ngaas_thickness_1 + Active_region_thickness + ngaas_thickness_2 + sigaas_thickness # width of waveguide\n",
    "\n",
    "###---------------------------------material config----------------------------------###\n",
    "# material definition\n",
    "\n",
    "\n",
    "###------------------------------------geometry------------------------------------###\n",
    "material_H = Au_thickness + nGaAs_thickness_1 + Active_region_thickness + nGaAs_thickness_2 + substrate_GaAs_thickness\n",
    "x0 = -0.5 * (Au_thickness + nGaAs_thickness_1 + Active_region_thickness + \n",
    "             nGaAs_thickness_2 + substrate_GaAs_thickness)\n",
    "x_start = x0\n",
    "\n",
    "def add_layer(thickness:float, material:mp.Medium):\n",
    "    \"\"\"add layers through x axis\"\"\"\n",
    "    global x0\n",
    "    geometry.append(mp.Block(material=material,\n",
    "                             size=mp.Vector3(thickness,mp.inf,mp.inf),\n",
    "                             center=mp.Vector3(x0 + 0.5 * thickness, 0, 0),\n",
    "                             ))\n",
    "    x0 += thickness\n",
    "\n",
    "geometry = []\n",
    "# Substrate\n",
    "add_layer(substrate_GaAs_thickness, QCL_neff_c)\n",
    "add_layer(nGaAs_thickness_2,        GaAs_5e18_fun)\n",
    "\n",
    "# QCL active region\n",
    "add_layer(Active_region_thickness,  GaAs)\n",
    "\n",
    "# upper layers\n",
    "add_layer(nGaAs_thickness_1,        GaAs_5e18_fun)\n",
    "add_layer(Au_thickness,             Au_fun)\n"
   ]
  },
  {
   "cell_type": "markdown",
   "id": "c20ed198",
   "metadata": {},
   "source": [
    "### 非周期性光栅定义方式"
   ]
  },
  {
   "cell_type": "code",
   "execution_count": 29,
   "id": "77853e17",
   "metadata": {},
   "outputs": [],
   "source": [
    "###------------------------------------grating parameters-----------------------------------------###\n",
    "pattern_1 = \"|-||-|-||||||-|||||-||||-|||-||-||||-|||||||-||-||-|||-||-|-||-|||-||-|-||||||-||-|-|||-||-|||||-|||-||-|\"\n",
    "pattern_2 = \"|-||-|||||-||||||-|||-||||-||-||-|||||||||-||-|-||-||-||-|-|||-||-||-|-||||||-||||||||-||-||||||-||||---|\"\n",
    "pattern_main = pattern_1 + pattern_2\n",
    "slot_depth = 10\n",
    "slot_width = 0.1\n",
    "line = 1\n",
    "dash = line * 1.5\n",
    "sz_length = 0\n",
    "for symbol in pattern_main:\n",
    "    sz_length += line if symbol == '|' else dash\n",
    "\n",
    "z_start = -sz_length/2\n",
    "x_grating_center = x_start + material_H - 0.5 * Au_thickness\n",
    "z_pos = -sz_length/2\n",
    "\n",
    "def add_grating(pattern:list,grating_geometry:list):\n",
    "    \"\"\" add grating structure through z axis\"\"\"\n",
    "    global z_pos\n",
    "    for symbol in pattern:\n",
    "        z_pos = z_pos + line if symbol == \"|\" else z_pos + dash\n",
    "        grating_geometry.append(mp.Block(\n",
    "                            material=mp.air,\n",
    "                            size=mp.Vector3(slot_depth,mp.inf,slot_width),\n",
    "                            center=mp.Vector3(x=x_grating_center,z=z_pos)))\n",
    "\n",
    "grating_geometry = []\n",
    "add_grating(pattern_main,grating_geometry)\n",
    "\n",
    "geometry += grating_geometry"
   ]
  },
  {
   "cell_type": "markdown",
   "id": "856da177",
   "metadata": {},
   "source": [
    "### Combine layer stack and grating structure\n"
   ]
  },
  {
   "cell_type": "code",
   "execution_count": null,
   "id": "e3d33f2a",
   "metadata": {},
   "outputs": [
    {
     "name": "stdout",
     "output_type": "stream",
     "text": [
      "     block, center = (-6.14,0,0)\n",
      "          size (30,1e+20,1e+20)\n",
      "          axes (1,0,0), (0,1,0), (0,0,1)\n",
      "          dielectric constant epsilon diagonal = (3.647,3.647,3.647)\n",
      "     block, center = (9.21,0,0)\n",
      "          size (0.7,1e+20,1e+20)\n",
      "          axes (1,0,0), (0,1,0), (0,0,1)\n",
      "          dielectric constant epsilon diagonal = (12.9,12.9,12.9)\n",
      "     block, center = (15.21,0,0)\n",
      "          size (11.3,1e+20,1e+20)\n",
      "          axes (1,0,0), (0,1,0), (0,0,1)\n",
      "          dielectric constant epsilon diagonal = (5.37251,5.37251,5.37251)\n",
      "     block, center = (20.9,0,0)\n",
      "          size (0.08,1e+20,1e+20)\n",
      "          axes (1,0,0), (0,1,0), (0,0,1)\n",
      "          dielectric constant epsilon diagonal = (12.9,12.9,12.9)\n",
      "     block, center = (21.04,0,0)\n",
      "          size (0.2,1e+20,1e+20)\n",
      "          axes (1,0,0), (0,1,0), (0,0,1)\n",
      "          dielectric constant epsilon diagonal = (1,1,1)\n",
      "     block, center = (21.04,0,-117.25)\n",
      "          size (0.3,1e+20,0.1)\n",
      "          axes (1,0,0), (0,1,0), (0,0,1)\n",
      "          dielectric constant epsilon diagonal = (1,1,1)\n",
      "     block, center = (21.04,0,-115.75)\n",
      "          size (0.3,1e+20,0.1)\n",
      "          axes (1,0,0), (0,1,0), (0,0,1)\n",
      "          dielectric constant epsilon diagonal = (1,1,1)\n",
      "     block, center = (21.04,0,-114.75)\n",
      "          size (0.3,1e+20,0.1)\n",
      "          axes (1,0,0), (0,1,0), (0,0,1)\n",
      "          dielectric constant epsilon diagonal = (1,1,1)\n",
      "     block, center = (21.04,0,-113.75)\n",
      "          size (0.3,1e+20,0.1)\n",
      "          axes (1,0,0), (0,1,0), (0,0,1)\n",
      "          dielectric constant epsilon diagonal = (1,1,1)\n",
      "     block, center = (21.04,0,-112.25)\n",
      "          size (0.3,1e+20,0.1)\n",
      "          axes (1,0,0), (0,1,0), (0,0,1)\n",
      "          dielectric constant epsilon diagonal = (1,1,1)\n",
      "     ...(+ 625 objects not shown)...\n"
     ]
    },
    {
     "data": {
      "text/plain": [
       "<Axes: xlabel='X', ylabel='Z'>"
      ]
     },
     "execution_count": 31,
     "metadata": {},
     "output_type": "execute_result"
    },
    {
     "data": {
      "image/png": "[encoded data removed]",
      "text/plain": [
       "<Figure size 640x480 with 1 Axes>"
      ]
     },
     "metadata": {},
     "output_type": "display_data"
    }
   ],
   "source": [
    "###---------------------------------------cell setup----------------------------------------------------###\n",
    "sx = material_H + 2*dpml + 10\n",
    "sy = 0\n",
    "sz = sz_length + 2*dpml + 10\n",
    "cell = mp.Vector3(sx, sy, sz)\n",
    "\n",
    "fcen = 2.85e12 # 2.85THz\n",
    "df = 0.2  # pulse frequency width\n",
    "fceninmeep = fcen/3e8\n",
    "\n",
    "src = [mp.Source(mp.ContinuousSource(fceninmeep, fwidth=df),\n",
    "        component=mp.Ey,\n",
    "        center=mp.Vector3(0,0,-0.5 * sz + dpml),\n",
    "        size=mp.Vector3(x=sx)\n",
    "        )]\n",
    "\n",
    "###-------------------------------------simulation setup-----------------------------------------------###\n",
    "sim = mp.Simulation(\n",
    "                cell_size=cell,\n",
    "                geometry=geometry,\n",
    "                boundary_layers=[mp.PML(dpml, direction=mp.X),\n",
    "                                 mp.PML(dpml, direction=mp.Z)],\n",
    "                sources=src,\n",
    "                resolution=resolution)\n",
    "sim.plot2D()\n"
   ]
  }
 ],
 "metadata": {
  "kernelspec": {
   "display_name": "mp",
   "language": "python",
   "name": "python3"
  },
  "language_info": {
   "codemirror_mode": {
    "name": "ipython",
    "version": 3
   },
   "file_extension": ".py",
   "mimetype": "text/x-python",
   "name": "python",
   "nbconvert_exporter": "python",
   "pygments_lexer": "ipython3",
   "version": "3.13.5"
  }
 },
 "nbformat": 4,
 "nbformat_minor": 5
}
